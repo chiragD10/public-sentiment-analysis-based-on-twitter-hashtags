{
 "cells": [
  {
   "cell_type": "markdown",
   "id": "06f98840",
   "metadata": {},
   "source": [
    "# Part 1"
   ]
  },
  {
   "cell_type": "markdown",
   "id": "02428fcf",
   "metadata": {},
   "source": [
    "# Imports"
   ]
  },
  {
   "cell_type": "code",
   "execution_count": 74,
   "id": "ba36e84f",
   "metadata": {},
   "outputs": [
    {
     "name": "stderr",
     "output_type": "stream",
     "text": [
      "[nltk_data] Downloading package vader_lexicon to\n",
      "[nltk_data]     C:\\Users\\91637\\AppData\\Roaming\\nltk_data...\n",
      "[nltk_data]   Package vader_lexicon is already up-to-date!\n"
     ]
    },
    {
     "data": {
      "text/plain": [
       "True"
      ]
     },
     "execution_count": 74,
     "metadata": {},
     "output_type": "execute_result"
    }
   ],
   "source": [
    "import pandas as pd\n",
    "import nltk\n",
    "from nltk.sentiment.vader import SentimentIntensityAnalyzer\n",
    "\n",
    "nltk.download('vader_lexicon')"
   ]
  },
  {
   "cell_type": "markdown",
   "id": "e4410682",
   "metadata": {},
   "source": [
    "# Handling datasets"
   ]
  },
  {
   "cell_type": "code",
   "execution_count": 75,
   "id": "9162158a",
   "metadata": {},
   "outputs": [],
   "source": [
    "data = pd.read_csv(\"D:\\Dataset.csv\")\n",
    "df = pd.DataFrame(data)\n",
    "df['neg'] = -1\n",
    "df['neu'] = 0\n",
    "df['pos'] = 1"
   ]
  },
  {
   "cell_type": "markdown",
   "id": "59d926b7",
   "metadata": {},
   "source": [
    "# Build functions"
   ]
  },
  {
   "cell_type": "code",
   "execution_count": 76,
   "id": "47d8db32",
   "metadata": {},
   "outputs": [
    {
     "data": {
      "text/html": [
       "<div>\n",
       "<style scoped>\n",
       "    .dataframe tbody tr th:only-of-type {\n",
       "        vertical-align: middle;\n",
       "    }\n",
       "\n",
       "    .dataframe tbody tr th {\n",
       "        vertical-align: top;\n",
       "    }\n",
       "\n",
       "    .dataframe thead th {\n",
       "        text-align: right;\n",
       "    }\n",
       "</style>\n",
       "<table border=\"1\" class=\"dataframe\">\n",
       "  <thead>\n",
       "    <tr style=\"text-align: right;\">\n",
       "      <th></th>\n",
       "      <th>Unnamed: 0</th>\n",
       "      <th>Data</th>\n",
       "      <th>Date</th>\n",
       "      <th>Time</th>\n",
       "      <th>tweetcaption</th>\n",
       "      <th>neg</th>\n",
       "      <th>neu</th>\n",
       "      <th>pos</th>\n",
       "    </tr>\n",
       "  </thead>\n",
       "  <tbody>\n",
       "    <tr>\n",
       "      <th>0</th>\n",
       "      <td>0</td>\n",
       "      <td>tuesdayvibes</td>\n",
       "      <td>7/14/2020</td>\n",
       "      <td>7:00:21</td>\n",
       "      <td>Love it here vacation vibes amazing beautiful ...</td>\n",
       "      <td>0.041</td>\n",
       "      <td>0.800</td>\n",
       "      <td>0.159</td>\n",
       "    </tr>\n",
       "    <tr>\n",
       "      <th>1</th>\n",
       "      <td>1</td>\n",
       "      <td>realmeC11</td>\n",
       "      <td>7/14/2020</td>\n",
       "      <td>7:00:21</td>\n",
       "      <td>Best Camera Smartphone under 20k Please vote a...</td>\n",
       "      <td>0.028</td>\n",
       "      <td>0.878</td>\n",
       "      <td>0.093</td>\n",
       "    </tr>\n",
       "    <tr>\n",
       "      <th>2</th>\n",
       "      <td>2</td>\n",
       "      <td>KPSharmaOli</td>\n",
       "      <td>7/14/2020</td>\n",
       "      <td>7:00:21</td>\n",
       "      <td>shree Why should we have a problem with the pe...</td>\n",
       "      <td>0.072</td>\n",
       "      <td>0.797</td>\n",
       "      <td>0.131</td>\n",
       "    </tr>\n",
       "    <tr>\n",
       "      <th>3</th>\n",
       "      <td>3</td>\n",
       "      <td>RheaChakraborty</td>\n",
       "      <td>7/14/2020</td>\n",
       "      <td>7:00:21</td>\n",
       "      <td>Rhea Chakraborty s Heartbreaking Post On Susha...</td>\n",
       "      <td>0.114</td>\n",
       "      <td>0.713</td>\n",
       "      <td>0.173</td>\n",
       "    </tr>\n",
       "    <tr>\n",
       "      <th>4</th>\n",
       "      <td>4</td>\n",
       "      <td>Stop_Transfer_Sunita_Yadav</td>\n",
       "      <td>7/14/2020</td>\n",
       "      <td>7:00:21</td>\n",
       "      <td>We stand for Sunita Yadav Stop the Transfer Wh...</td>\n",
       "      <td>0.152</td>\n",
       "      <td>0.710</td>\n",
       "      <td>0.138</td>\n",
       "    </tr>\n",
       "  </tbody>\n",
       "</table>\n",
       "</div>"
      ],
      "text/plain": [
       "   Unnamed: 0                         Data       Date     Time  \\\n",
       "0           0                 tuesdayvibes  7/14/2020  7:00:21   \n",
       "1           1                    realmeC11  7/14/2020  7:00:21   \n",
       "2           2                  KPSharmaOli  7/14/2020  7:00:21   \n",
       "3           3              RheaChakraborty  7/14/2020  7:00:21   \n",
       "4           4   Stop_Transfer_Sunita_Yadav  7/14/2020  7:00:21   \n",
       "\n",
       "                                        tweetcaption    neg    neu    pos  \n",
       "0  Love it here vacation vibes amazing beautiful ...  0.041  0.800  0.159  \n",
       "1  Best Camera Smartphone under 20k Please vote a...  0.028  0.878  0.093  \n",
       "2  shree Why should we have a problem with the pe...  0.072  0.797  0.131  \n",
       "3  Rhea Chakraborty s Heartbreaking Post On Susha...  0.114  0.713  0.173  \n",
       "4  We stand for Sunita Yadav Stop the Transfer Wh...  0.152  0.710  0.138  "
      ]
     },
     "execution_count": 76,
     "metadata": {},
     "output_type": "execute_result"
    }
   ],
   "source": [
    "sid = SentimentIntensityAnalyzer()\n",
    "for i in range(df.shape[0]):\n",
    "    scores = sid.polarity_scores(df.iat[i, 4])\n",
    "    df.iat[i, 5] = scores['neg']\n",
    "    df.iat[i, 6] = scores['neu']\n",
    "    df.iat[i, 7] = scores['pos']\n",
    "df.head()"
   ]
  },
  {
   "cell_type": "code",
   "execution_count": null,
   "id": "cf10c6c7",
   "metadata": {},
   "outputs": [],
   "source": []
  },
  {
   "cell_type": "code",
   "execution_count": null,
   "id": "f1038ec3",
   "metadata": {},
   "outputs": [],
   "source": []
  },
  {
   "cell_type": "code",
   "execution_count": null,
   "id": "d3f7a14e",
   "metadata": {},
   "outputs": [],
   "source": []
  }
 ],
 "metadata": {
  "kernelspec": {
   "display_name": "Python 3 (ipykernel)",
   "language": "python",
   "name": "python3"
  },
  "language_info": {
   "codemirror_mode": {
    "name": "ipython",
    "version": 3
   },
   "file_extension": ".py",
   "mimetype": "text/x-python",
   "name": "python",
   "nbconvert_exporter": "python",
   "pygments_lexer": "ipython3",
   "version": "3.9.0"
  }
 },
 "nbformat": 4,
 "nbformat_minor": 5
}
